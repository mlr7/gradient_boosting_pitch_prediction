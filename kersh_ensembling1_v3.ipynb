{
 "cells": [
  {
   "cell_type": "code",
   "execution_count": null,
   "id": "7ee7814e",
   "metadata": {},
   "outputs": [],
   "source": []
  },
  {
   "cell_type": "code",
   "execution_count": 1,
   "id": "e386b159",
   "metadata": {},
   "outputs": [],
   "source": [
    "import numpy as np\n",
    "import pandas as pd"
   ]
  },
  {
   "cell_type": "code",
   "execution_count": 2,
   "id": "bd269f53",
   "metadata": {},
   "outputs": [
    {
     "name": "stdout",
     "output_type": "stream",
     "text": [
      "(36503, 19)\n",
      "Index(['balls', 'strikes', 'game_year', 'batter', 'pitch_number',\n",
      "       'at_bat_number', 'home_score', 'away_score', 'on_3b', 'on_2b', 'on_1b',\n",
      "       'outs_when_up', 'if_fielding_alignment_Infield shift',\n",
      "       'if_fielding_alignment_Standard', 'if_fielding_alignment_Strategic',\n",
      "       'of_fielding_alignment_Extreme outfield shift',\n",
      "       'of_fielding_alignment_Standard', 'of_fielding_alignment_Strategic',\n",
      "       'pitch_bin'],\n",
      "      dtype='object')\n"
     ]
    },
    {
     "data": {
      "text/html": [
       "<div>\n",
       "<style scoped>\n",
       "    .dataframe tbody tr th:only-of-type {\n",
       "        vertical-align: middle;\n",
       "    }\n",
       "\n",
       "    .dataframe tbody tr th {\n",
       "        vertical-align: top;\n",
       "    }\n",
       "\n",
       "    .dataframe thead th {\n",
       "        text-align: right;\n",
       "    }\n",
       "</style>\n",
       "<table border=\"1\" class=\"dataframe\">\n",
       "  <thead>\n",
       "    <tr style=\"text-align: right;\">\n",
       "      <th></th>\n",
       "      <th>balls</th>\n",
       "      <th>strikes</th>\n",
       "      <th>game_year</th>\n",
       "      <th>batter</th>\n",
       "      <th>pitch_number</th>\n",
       "      <th>at_bat_number</th>\n",
       "      <th>home_score</th>\n",
       "      <th>away_score</th>\n",
       "      <th>on_3b</th>\n",
       "      <th>on_2b</th>\n",
       "      <th>on_1b</th>\n",
       "      <th>outs_when_up</th>\n",
       "      <th>if_fielding_alignment_Infield shift</th>\n",
       "      <th>if_fielding_alignment_Standard</th>\n",
       "      <th>if_fielding_alignment_Strategic</th>\n",
       "      <th>of_fielding_alignment_Extreme outfield shift</th>\n",
       "      <th>of_fielding_alignment_Standard</th>\n",
       "      <th>of_fielding_alignment_Strategic</th>\n",
       "      <th>pitch_bin</th>\n",
       "    </tr>\n",
       "  </thead>\n",
       "  <tbody>\n",
       "    <tr>\n",
       "      <th>0</th>\n",
       "      <td>2</td>\n",
       "      <td>1</td>\n",
       "      <td>2008</td>\n",
       "      <td>435401</td>\n",
       "      <td>4</td>\n",
       "      <td>17</td>\n",
       "      <td>1</td>\n",
       "      <td>1</td>\n",
       "      <td>0.0</td>\n",
       "      <td>0.0</td>\n",
       "      <td>453895.0</td>\n",
       "      <td>0</td>\n",
       "      <td>0</td>\n",
       "      <td>0</td>\n",
       "      <td>0</td>\n",
       "      <td>0</td>\n",
       "      <td>0</td>\n",
       "      <td>0</td>\n",
       "      <td>1</td>\n",
       "    </tr>\n",
       "    <tr>\n",
       "      <th>1</th>\n",
       "      <td>1</td>\n",
       "      <td>2</td>\n",
       "      <td>2008</td>\n",
       "      <td>136267</td>\n",
       "      <td>5</td>\n",
       "      <td>41</td>\n",
       "      <td>2</td>\n",
       "      <td>2</td>\n",
       "      <td>0.0</td>\n",
       "      <td>405395.0</td>\n",
       "      <td>407886.0</td>\n",
       "      <td>1</td>\n",
       "      <td>0</td>\n",
       "      <td>0</td>\n",
       "      <td>0</td>\n",
       "      <td>0</td>\n",
       "      <td>0</td>\n",
       "      <td>0</td>\n",
       "      <td>0</td>\n",
       "    </tr>\n",
       "    <tr>\n",
       "      <th>2</th>\n",
       "      <td>0</td>\n",
       "      <td>0</td>\n",
       "      <td>2008</td>\n",
       "      <td>407886</td>\n",
       "      <td>1</td>\n",
       "      <td>23</td>\n",
       "      <td>1</td>\n",
       "      <td>1</td>\n",
       "      <td>0.0</td>\n",
       "      <td>0.0</td>\n",
       "      <td>0.0</td>\n",
       "      <td>1</td>\n",
       "      <td>0</td>\n",
       "      <td>0</td>\n",
       "      <td>0</td>\n",
       "      <td>0</td>\n",
       "      <td>0</td>\n",
       "      <td>0</td>\n",
       "      <td>0</td>\n",
       "    </tr>\n",
       "    <tr>\n",
       "      <th>3</th>\n",
       "      <td>0</td>\n",
       "      <td>0</td>\n",
       "      <td>2008</td>\n",
       "      <td>425487</td>\n",
       "      <td>1</td>\n",
       "      <td>32</td>\n",
       "      <td>2</td>\n",
       "      <td>1</td>\n",
       "      <td>0.0</td>\n",
       "      <td>0.0</td>\n",
       "      <td>285131.0</td>\n",
       "      <td>1</td>\n",
       "      <td>0</td>\n",
       "      <td>0</td>\n",
       "      <td>0</td>\n",
       "      <td>0</td>\n",
       "      <td>0</td>\n",
       "      <td>0</td>\n",
       "      <td>1</td>\n",
       "    </tr>\n",
       "    <tr>\n",
       "      <th>4</th>\n",
       "      <td>0</td>\n",
       "      <td>1</td>\n",
       "      <td>2008</td>\n",
       "      <td>425487</td>\n",
       "      <td>2</td>\n",
       "      <td>32</td>\n",
       "      <td>2</td>\n",
       "      <td>1</td>\n",
       "      <td>0.0</td>\n",
       "      <td>0.0</td>\n",
       "      <td>285131.0</td>\n",
       "      <td>1</td>\n",
       "      <td>0</td>\n",
       "      <td>0</td>\n",
       "      <td>0</td>\n",
       "      <td>0</td>\n",
       "      <td>0</td>\n",
       "      <td>0</td>\n",
       "      <td>1</td>\n",
       "    </tr>\n",
       "  </tbody>\n",
       "</table>\n",
       "</div>"
      ],
      "text/plain": [
       "   balls  strikes  game_year  batter  pitch_number  at_bat_number  home_score  \\\n",
       "0      2        1       2008  435401             4             17           1   \n",
       "1      1        2       2008  136267             5             41           2   \n",
       "2      0        0       2008  407886             1             23           1   \n",
       "3      0        0       2008  425487             1             32           2   \n",
       "4      0        1       2008  425487             2             32           2   \n",
       "\n",
       "   away_score  on_3b     on_2b     on_1b  outs_when_up  \\\n",
       "0           1    0.0       0.0  453895.0             0   \n",
       "1           2    0.0  405395.0  407886.0             1   \n",
       "2           1    0.0       0.0       0.0             1   \n",
       "3           1    0.0       0.0  285131.0             1   \n",
       "4           1    0.0       0.0  285131.0             1   \n",
       "\n",
       "   if_fielding_alignment_Infield shift  if_fielding_alignment_Standard  \\\n",
       "0                                    0                               0   \n",
       "1                                    0                               0   \n",
       "2                                    0                               0   \n",
       "3                                    0                               0   \n",
       "4                                    0                               0   \n",
       "\n",
       "   if_fielding_alignment_Strategic  \\\n",
       "0                                0   \n",
       "1                                0   \n",
       "2                                0   \n",
       "3                                0   \n",
       "4                                0   \n",
       "\n",
       "   of_fielding_alignment_Extreme outfield shift  \\\n",
       "0                                             0   \n",
       "1                                             0   \n",
       "2                                             0   \n",
       "3                                             0   \n",
       "4                                             0   \n",
       "\n",
       "   of_fielding_alignment_Standard  of_fielding_alignment_Strategic  pitch_bin  \n",
       "0                               0                                0          1  \n",
       "1                               0                                0          0  \n",
       "2                               0                                0          0  \n",
       "3                               0                                0          1  \n",
       "4                               0                                0          1  "
      ]
     },
     "metadata": {},
     "output_type": "display_data"
    },
    {
     "name": "stdout",
     "output_type": "stream",
     "text": [
      "(5000, 19)\n",
      "Index(['balls', 'strikes', 'game_year', 'batter', 'pitch_number',\n",
      "       'at_bat_number', 'home_score', 'away_score', 'on_3b', 'on_2b', 'on_1b',\n",
      "       'outs_when_up', 'if_fielding_alignment_Infield shift',\n",
      "       'if_fielding_alignment_Standard', 'if_fielding_alignment_Strategic',\n",
      "       'of_fielding_alignment_Extreme outfield shift',\n",
      "       'of_fielding_alignment_Standard', 'of_fielding_alignment_Strategic',\n",
      "       'pitch_bin'],\n",
      "      dtype='object')\n"
     ]
    },
    {
     "data": {
      "text/html": [
       "<div>\n",
       "<style scoped>\n",
       "    .dataframe tbody tr th:only-of-type {\n",
       "        vertical-align: middle;\n",
       "    }\n",
       "\n",
       "    .dataframe tbody tr th {\n",
       "        vertical-align: top;\n",
       "    }\n",
       "\n",
       "    .dataframe thead th {\n",
       "        text-align: right;\n",
       "    }\n",
       "</style>\n",
       "<table border=\"1\" class=\"dataframe\">\n",
       "  <thead>\n",
       "    <tr style=\"text-align: right;\">\n",
       "      <th></th>\n",
       "      <th>balls</th>\n",
       "      <th>strikes</th>\n",
       "      <th>game_year</th>\n",
       "      <th>batter</th>\n",
       "      <th>pitch_number</th>\n",
       "      <th>at_bat_number</th>\n",
       "      <th>home_score</th>\n",
       "      <th>away_score</th>\n",
       "      <th>on_3b</th>\n",
       "      <th>on_2b</th>\n",
       "      <th>on_1b</th>\n",
       "      <th>outs_when_up</th>\n",
       "      <th>if_fielding_alignment_Infield shift</th>\n",
       "      <th>if_fielding_alignment_Standard</th>\n",
       "      <th>if_fielding_alignment_Strategic</th>\n",
       "      <th>of_fielding_alignment_Extreme outfield shift</th>\n",
       "      <th>of_fielding_alignment_Standard</th>\n",
       "      <th>of_fielding_alignment_Strategic</th>\n",
       "      <th>pitch_bin</th>\n",
       "    </tr>\n",
       "  </thead>\n",
       "  <tbody>\n",
       "    <tr>\n",
       "      <th>25583</th>\n",
       "      <td>1</td>\n",
       "      <td>0</td>\n",
       "      <td>2016</td>\n",
       "      <td>425796</td>\n",
       "      <td>2</td>\n",
       "      <td>7</td>\n",
       "      <td>0</td>\n",
       "      <td>0</td>\n",
       "      <td>0.0</td>\n",
       "      <td>0.0</td>\n",
       "      <td>0.0</td>\n",
       "      <td>0</td>\n",
       "      <td>0</td>\n",
       "      <td>1</td>\n",
       "      <td>0</td>\n",
       "      <td>0</td>\n",
       "      <td>1</td>\n",
       "      <td>0</td>\n",
       "      <td>0</td>\n",
       "    </tr>\n",
       "    <tr>\n",
       "      <th>27631</th>\n",
       "      <td>3</td>\n",
       "      <td>2</td>\n",
       "      <td>2017</td>\n",
       "      <td>543685</td>\n",
       "      <td>6</td>\n",
       "      <td>26</td>\n",
       "      <td>0</td>\n",
       "      <td>1</td>\n",
       "      <td>0.0</td>\n",
       "      <td>0.0</td>\n",
       "      <td>502517.0</td>\n",
       "      <td>1</td>\n",
       "      <td>0</td>\n",
       "      <td>1</td>\n",
       "      <td>0</td>\n",
       "      <td>0</td>\n",
       "      <td>1</td>\n",
       "      <td>0</td>\n",
       "      <td>0</td>\n",
       "    </tr>\n",
       "    <tr>\n",
       "      <th>14367</th>\n",
       "      <td>1</td>\n",
       "      <td>1</td>\n",
       "      <td>2012</td>\n",
       "      <td>467827</td>\n",
       "      <td>3</td>\n",
       "      <td>10</td>\n",
       "      <td>0</td>\n",
       "      <td>0</td>\n",
       "      <td>0.0</td>\n",
       "      <td>0.0</td>\n",
       "      <td>0.0</td>\n",
       "      <td>1</td>\n",
       "      <td>0</td>\n",
       "      <td>0</td>\n",
       "      <td>0</td>\n",
       "      <td>0</td>\n",
       "      <td>0</td>\n",
       "      <td>0</td>\n",
       "      <td>0</td>\n",
       "    </tr>\n",
       "    <tr>\n",
       "      <th>33850</th>\n",
       "      <td>0</td>\n",
       "      <td>1</td>\n",
       "      <td>2020</td>\n",
       "      <td>594777</td>\n",
       "      <td>2</td>\n",
       "      <td>13</td>\n",
       "      <td>0</td>\n",
       "      <td>2</td>\n",
       "      <td>0.0</td>\n",
       "      <td>0.0</td>\n",
       "      <td>0.0</td>\n",
       "      <td>1</td>\n",
       "      <td>1</td>\n",
       "      <td>0</td>\n",
       "      <td>0</td>\n",
       "      <td>0</td>\n",
       "      <td>1</td>\n",
       "      <td>0</td>\n",
       "      <td>1</td>\n",
       "    </tr>\n",
       "    <tr>\n",
       "      <th>34590</th>\n",
       "      <td>1</td>\n",
       "      <td>1</td>\n",
       "      <td>2020</td>\n",
       "      <td>596115</td>\n",
       "      <td>3</td>\n",
       "      <td>8</td>\n",
       "      <td>0</td>\n",
       "      <td>2</td>\n",
       "      <td>0.0</td>\n",
       "      <td>606132.0</td>\n",
       "      <td>0.0</td>\n",
       "      <td>0</td>\n",
       "      <td>1</td>\n",
       "      <td>0</td>\n",
       "      <td>0</td>\n",
       "      <td>0</td>\n",
       "      <td>1</td>\n",
       "      <td>0</td>\n",
       "      <td>1</td>\n",
       "    </tr>\n",
       "  </tbody>\n",
       "</table>\n",
       "</div>"
      ],
      "text/plain": [
       "       balls  strikes  game_year  batter  pitch_number  at_bat_number  \\\n",
       "25583      1        0       2016  425796             2              7   \n",
       "27631      3        2       2017  543685             6             26   \n",
       "14367      1        1       2012  467827             3             10   \n",
       "33850      0        1       2020  594777             2             13   \n",
       "34590      1        1       2020  596115             3              8   \n",
       "\n",
       "       home_score  away_score  on_3b     on_2b     on_1b  outs_when_up  \\\n",
       "25583           0           0    0.0       0.0       0.0             0   \n",
       "27631           0           1    0.0       0.0  502517.0             1   \n",
       "14367           0           0    0.0       0.0       0.0             1   \n",
       "33850           0           2    0.0       0.0       0.0             1   \n",
       "34590           0           2    0.0  606132.0       0.0             0   \n",
       "\n",
       "       if_fielding_alignment_Infield shift  if_fielding_alignment_Standard  \\\n",
       "25583                                    0                               1   \n",
       "27631                                    0                               1   \n",
       "14367                                    0                               0   \n",
       "33850                                    1                               0   \n",
       "34590                                    1                               0   \n",
       "\n",
       "       if_fielding_alignment_Strategic  \\\n",
       "25583                                0   \n",
       "27631                                0   \n",
       "14367                                0   \n",
       "33850                                0   \n",
       "34590                                0   \n",
       "\n",
       "       of_fielding_alignment_Extreme outfield shift  \\\n",
       "25583                                             0   \n",
       "27631                                             0   \n",
       "14367                                             0   \n",
       "33850                                             0   \n",
       "34590                                             0   \n",
       "\n",
       "       of_fielding_alignment_Standard  of_fielding_alignment_Strategic  \\\n",
       "25583                               1                                0   \n",
       "27631                               1                                0   \n",
       "14367                               0                                0   \n",
       "33850                               1                                0   \n",
       "34590                               1                                0   \n",
       "\n",
       "       pitch_bin  \n",
       "25583          0  \n",
       "27631          0  \n",
       "14367          0  \n",
       "33850          1  \n",
       "34590          1  "
      ]
     },
     "metadata": {},
     "output_type": "display_data"
    }
   ],
   "source": [
    "df = pd.read_csv('./data_in/data_Xy_cleaned_FF1_kersh2008to2021.csv')\n",
    "\n",
    "print(df.shape)\n",
    "print(df.columns)\n",
    "display(df.head(5))\n",
    "\n",
    "# reduced data size for training speed:\n",
    "df = df.sample(5000)\n",
    "print(df.shape)\n",
    "print(df.columns)\n",
    "display(df.head(5))"
   ]
  },
  {
   "cell_type": "code",
   "execution_count": 3,
   "id": "0f6371af",
   "metadata": {},
   "outputs": [
    {
     "name": "stdout",
     "output_type": "stream",
     "text": [
      "(5000, 19) (5000, 18) (5000, 1)\n"
     ]
    }
   ],
   "source": [
    "df_X = df[['balls', 'strikes', 'game_year', 'batter', 'pitch_number',\n",
    "       'at_bat_number', 'home_score', 'away_score', 'on_3b', 'on_2b', 'on_1b',\n",
    "       'outs_when_up', 'if_fielding_alignment_Infield shift',\n",
    "       'if_fielding_alignment_Standard', 'if_fielding_alignment_Strategic',\n",
    "       'of_fielding_alignment_Extreme outfield shift',\n",
    "       'of_fielding_alignment_Standard', 'of_fielding_alignment_Strategic']]\n",
    "\n",
    "df_y = df[['pitch_bin']]\n",
    "\n",
    "print(df.shape, df_X.shape, df_y.shape)"
   ]
  },
  {
   "cell_type": "code",
   "execution_count": 4,
   "id": "4b042b40",
   "metadata": {},
   "outputs": [],
   "source": [
    "X = df_X.values\n",
    "y = df_y.values"
   ]
  },
  {
   "cell_type": "code",
   "execution_count": 5,
   "id": "a8603aab",
   "metadata": {},
   "outputs": [],
   "source": [
    "from sklearn.model_selection import train_test_split"
   ]
  },
  {
   "cell_type": "code",
   "execution_count": 6,
   "id": "cdc59d40",
   "metadata": {},
   "outputs": [
    {
     "name": "stdout",
     "output_type": "stream",
     "text": [
      "(5000, 18) (5000, 1)\n",
      "(3350, 18) (3350, 1) (1650, 18) (1650, 1)\n"
     ]
    }
   ],
   "source": [
    "X_train, X_test, y_train, y_test = train_test_split(X, y, test_size=0.33, random_state=0)\n",
    "\n",
    "print(X.shape, y.shape)\n",
    "print(X_train.shape, y_train.shape, X_test.shape, y_test.shape)"
   ]
  },
  {
   "cell_type": "code",
   "execution_count": 25,
   "id": "18d0a8d3",
   "metadata": {},
   "outputs": [],
   "source": [
    "from sklearn.svm import SVC\n",
    "\n",
    "from sklearn.ensemble import RandomForestClassifier\n",
    "from sklearn import tree\n",
    "import xgboost as xgb\n",
    "\n",
    "from sklearn.neighbors import KNeighborsClassifier\n",
    "from sklearn.metrics import log_loss, roc_auc_score, accuracy_score\n"
   ]
  },
  {
   "cell_type": "code",
   "execution_count": 9,
   "id": "bc107221",
   "metadata": {},
   "outputs": [],
   "source": [
    "model_1 = SVC(probability=True, random_state=0)\n",
    "\n",
    "#model_2 = RandomForestClassifier(random_state=0)\n",
    "model_2 = tree.DecisionTreeClassifier()\n",
    "\n",
    "model_3 = KNeighborsClassifier()"
   ]
  },
  {
   "cell_type": "code",
   "execution_count": 10,
   "id": "f2ab6d76",
   "metadata": {},
   "outputs": [
    {
     "name": "stderr",
     "output_type": "stream",
     "text": [
      "C:\\Users\\m85302\\Anaconda3b\\lib\\site-packages\\sklearn\\utils\\validation.py:63: DataConversionWarning: A column-vector y was passed when a 1d array was expected. Please change the shape of y to (n_samples, ), for example using ravel().\n",
      "  return f(*args, **kwargs)\n",
      "C:\\Users\\m85302\\Anaconda3b\\lib\\site-packages\\sklearn\\neighbors\\_classification.py:179: DataConversionWarning: A column-vector y was passed when a 1d array was expected. Please change the shape of y to (n_samples,), for example using ravel().\n",
      "  return self._fit(X, y)\n"
     ]
    },
    {
     "data": {
      "text/plain": [
       "KNeighborsClassifier()"
      ]
     },
     "execution_count": 10,
     "metadata": {},
     "output_type": "execute_result"
    }
   ],
   "source": [
    "model_1.fit(X_train, y_train)\n",
    "model_2.fit(X_train, y_train)\n",
    "model_3.fit(X_train, y_train)"
   ]
  },
  {
   "cell_type": "code",
   "execution_count": 11,
   "id": "f74aec71",
   "metadata": {},
   "outputs": [],
   "source": [
    "import numpy as np\n",
    "from scipy.stats import mode"
   ]
  },
  {
   "cell_type": "code",
   "execution_count": 12,
   "id": "cc8b1cc5",
   "metadata": {},
   "outputs": [],
   "source": [
    "preds = np.stack([model_1.predict(X_test),\n",
    "                  model_2.predict(X_test),\n",
    "                  model_3.predict(X_test)]).T\n",
    "\n",
    "max_voting = np.apply_along_axis(mode, 1, preds)[:,0]"
   ]
  },
  {
   "cell_type": "code",
   "execution_count": 13,
   "id": "0e110e61",
   "metadata": {},
   "outputs": [
    {
     "name": "stdout",
     "output_type": "stream",
     "text": [
      "0.64\n"
     ]
    }
   ],
   "source": [
    "discordant = np.sum(np.var(preds, axis=1) > 0) / len(y_test)\n",
    "print(f\"{discordant:0.2f}\") "
   ]
  },
  {
   "cell_type": "code",
   "execution_count": 15,
   "id": "fe1e90cb",
   "metadata": {},
   "outputs": [
    {
     "name": "stdout",
     "output_type": "stream",
     "text": [
      "Accuracy for model SVC is: 0.582\n",
      "Accuracy for model Tree  is: 0.590\n",
      "Accuracy for model KNN is: 0.535\n"
     ]
    }
   ],
   "source": [
    "#for i, model in enumerate(['SVC', 'RF ', 'KNN']):\n",
    "for i, model in enumerate(['SVC', 'Tree ', 'KNN']):\n",
    "    acc = accuracy_score(y_true=y_test, y_pred=preds[:, i])\n",
    "    print(f\"Accuracy for model {model} is: {acc:0.3f}\")"
   ]
  },
  {
   "cell_type": "markdown",
   "id": "b05e2dc7",
   "metadata": {},
   "source": [
    "### Majority Voting"
   ]
  },
  {
   "cell_type": "code",
   "execution_count": 16,
   "id": "aa9bccd9",
   "metadata": {},
   "outputs": [
    {
     "name": "stdout",
     "output_type": "stream",
     "text": [
      "Accuracy for majority voting is: 0.584\n"
     ]
    }
   ],
   "source": [
    "max_voting_accuray = accuracy_score(y_true=y_test, y_pred=max_voting)\n",
    "print(f\"Accuracy for majority voting is: {max_voting_accuray:0.3f}\")"
   ]
  },
  {
   "cell_type": "markdown",
   "id": "f977e1d6",
   "metadata": {},
   "source": [
    "### Averaging"
   ]
  },
  {
   "cell_type": "code",
   "execution_count": 17,
   "id": "0630e4f3",
   "metadata": {},
   "outputs": [],
   "source": [
    "proba = np.stack([model_1.predict_proba(X_test)[:, 1],\n",
    "                  model_2.predict_proba(X_test)[:, 1],\n",
    "                  model_3.predict_proba(X_test)[:, 1]]).T"
   ]
  },
  {
   "cell_type": "code",
   "execution_count": 18,
   "id": "f7dce634",
   "metadata": {},
   "outputs": [
    {
     "name": "stdout",
     "output_type": "stream",
     "text": [
      "ROC-AUC for model SVC is: 0.57815\n",
      "ROC-AUC for model RF  is: 0.58775\n",
      "ROC-AUC for model KNN is: 0.54248\n"
     ]
    }
   ],
   "source": [
    "for i, model in enumerate(['SVC', 'RF ', 'KNN']):\n",
    "    ras = roc_auc_score(y_true=y_test, y_score=proba[:, i])\n",
    "    print(f\"ROC-AUC for model {model} is: {ras:0.5f}\")"
   ]
  },
  {
   "cell_type": "code",
   "execution_count": 19,
   "id": "c6516ddc",
   "metadata": {},
   "outputs": [
    {
     "name": "stdout",
     "output_type": "stream",
     "text": [
      "Mean averaging ROC-AUC is: 0.61286\n"
     ]
    }
   ],
   "source": [
    "arithmetic = proba.mean(axis=1)\n",
    "ras = roc_auc_score(y_true=y_test, y_score=arithmetic)\n",
    "print(f\"Mean averaging ROC-AUC is: {ras:0.5f}\")"
   ]
  },
  {
   "cell_type": "code",
   "execution_count": 20,
   "id": "45c55b50",
   "metadata": {},
   "outputs": [
    {
     "name": "stdout",
     "output_type": "stream",
     "text": [
      "Geometric averaging ROC-AUC is: 0.60561\n"
     ]
    }
   ],
   "source": [
    "geometric = proba.prod(axis=1)**(1/3)\n",
    "ras = roc_auc_score(y_true=y_test, y_score=geometric)\n",
    "print(f\"Geometric averaging ROC-AUC is: {ras:0.5f}\")"
   ]
  },
  {
   "cell_type": "code",
   "execution_count": 21,
   "id": "0f4213d5",
   "metadata": {},
   "outputs": [
    {
     "name": "stdout",
     "output_type": "stream",
     "text": [
      "Geometric averaging ROC-AUC is: 0.61319\n"
     ]
    }
   ],
   "source": [
    "harmonic = 1 / np.mean(1. / (proba + 0.00001), axis=1)\n",
    "ras = roc_auc_score(y_true=y_test, y_score=harmonic)\n",
    "print(f\"Geometric averaging ROC-AUC is: {ras:0.5f}\")"
   ]
  },
  {
   "cell_type": "code",
   "execution_count": 22,
   "id": "b9f51e65",
   "metadata": {},
   "outputs": [
    {
     "name": "stdout",
     "output_type": "stream",
     "text": [
      "Mean of powers averaging ROC-AUC is: 0.61529\n"
     ]
    }
   ],
   "source": [
    "n = 3\n",
    "mean_of_powers = np.mean(proba**n, axis=1)**(1/n)\n",
    "ras = roc_auc_score(y_true=y_test, y_score=mean_of_powers)\n",
    "print(f\"Mean of powers averaging ROC-AUC is: {ras:0.5f}\")"
   ]
  },
  {
   "cell_type": "code",
   "execution_count": 23,
   "id": "e977f6a7",
   "metadata": {},
   "outputs": [
    {
     "name": "stdout",
     "output_type": "stream",
     "text": [
      "Logarithmic averaging ROC-AUC is: 0.61295\n"
     ]
    }
   ],
   "source": [
    "logarithmic = np.expm1(np.mean(np.log1p(proba), axis=1))\n",
    "ras = roc_auc_score(y_true=y_test, y_score=logarithmic)\n",
    "print(f\"Logarithmic averaging ROC-AUC is: {ras:0.5f}\")"
   ]
  },
  {
   "cell_type": "markdown",
   "id": "1475a219",
   "metadata": {},
   "source": [
    "#### For reference"
   ]
  },
  {
   "cell_type": "code",
   "execution_count": 30,
   "id": "c42d5ad0",
   "metadata": {},
   "outputs": [
    {
     "name": "stderr",
     "output_type": "stream",
     "text": [
      "C:\\Users\\m85302\\AppData\\Local\\Temp/ipykernel_17888/649794515.py:2: DataConversionWarning: A column-vector y was passed when a 1d array was expected. Please change the shape of y to (n_samples,), for example using ravel().\n",
      "  clf_rf.fit(X_train, y_train)\n"
     ]
    },
    {
     "data": {
      "text/plain": [
       "0.6458107108337411"
      ]
     },
     "execution_count": 30,
     "metadata": {},
     "output_type": "execute_result"
    }
   ],
   "source": [
    "clf_rf = RandomForestClassifier(random_state=0)\n",
    "clf_rf.fit(X_train, y_train)\n",
    "y_pred_rf = clf_rf.predict(X_test)\n",
    "roc_auc_score(y_test, y_pred_rf)"
   ]
  },
  {
   "cell_type": "code",
   "execution_count": 34,
   "id": "17d25927",
   "metadata": {},
   "outputs": [
    {
     "name": "stdout",
     "output_type": "stream",
     "text": [
      "[17:16:55] WARNING: C:/Users/Administrator/workspace/xgboost-win64_release_1.5.1/src/learner.cc:1115: Starting in XGBoost 1.3.0, the default evaluation metric used with the objective 'binary:logistic' was changed from 'error' to 'logloss'. Explicitly set eval_metric if you'd like to restore the old behavior.\n"
     ]
    },
    {
     "data": {
      "text/plain": [
       "0.6267496390344021"
      ]
     },
     "execution_count": 34,
     "metadata": {},
     "output_type": "execute_result"
    }
   ],
   "source": [
    "clf_xgb = xgb.XGBClassifier()\n",
    "clf_xgb.fit(X_train, y_train)\n",
    "y_pred_xgb = clf_xgb.predict(X_test)\n",
    "roc_auc_score(y_test, y_pred_xgb)"
   ]
  },
  {
   "cell_type": "code",
   "execution_count": null,
   "id": "7b405cba",
   "metadata": {},
   "outputs": [],
   "source": []
  }
 ],
 "metadata": {
  "kernelspec": {
   "display_name": "Python 3 (ipykernel)",
   "language": "python",
   "name": "python3"
  },
  "language_info": {
   "codemirror_mode": {
    "name": "ipython",
    "version": 3
   },
   "file_extension": ".py",
   "mimetype": "text/x-python",
   "name": "python",
   "nbconvert_exporter": "python",
   "pygments_lexer": "ipython3",
   "version": "3.9.7"
  }
 },
 "nbformat": 4,
 "nbformat_minor": 5
}
